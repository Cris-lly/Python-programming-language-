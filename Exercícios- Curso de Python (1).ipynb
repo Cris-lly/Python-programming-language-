{
 "cells": [
  {
   "cell_type": "markdown",
   "metadata": {},
   "source": [
    "## Seção 4\n",
    "\n",
    "### Problema 3:\n",
    "Peça ao usuário para digitar três valores inteiros e imprima a soma deles"
   ]
  },
  {
   "cell_type": "code",
   "execution_count": null,
   "metadata": {},
   "outputs": [],
   "source": [
    "soma = 0\n",
    "for valor in range(1, 4):\n",
    "    soma += int(input(f\"Digite o {valor}º valor:\"))\n",
    "print(soma)\n"
   ]
  },
  {
   "cell_type": "markdown",
   "metadata": {},
   "source": [
    "### Problema 4:\n",
    "Leia um número real e imprima o resultado do quadrado desse número "
   ]
  },
  {
   "cell_type": "code",
   "execution_count": null,
   "metadata": {},
   "outputs": [],
   "source": [
    "num = float(input(\"Digite um número float para visualizar o quadrado do número:\"))\n",
    "print(num**2)\n"
   ]
  },
  {
   "cell_type": "markdown",
   "metadata": {},
   "source": [
    "### Problema 38:\n",
    "Leia o salário de um funcionário, calcule e imprima o valor no novo salário, sabendo que ele recebeu um aumento de 25% sobre o valor atual"
   ]
  },
  {
   "cell_type": "code",
   "execution_count": null,
   "metadata": {},
   "outputs": [],
   "source": [
    "salario = float(input(\"Digite o valor do seu salário:\"))\n",
    "valor = (salario*25)/100\n",
    "print(salario+valor)\n"
   ]
  },
  {
   "cell_type": "markdown",
   "metadata": {},
   "source": [
    "### Problema 50:\n",
    "Implemente um programa que calcule o ano de nascimento de uma pessoa a partir de sua idade e do ano atual"
   ]
  },
  {
   "cell_type": "code",
   "execution_count": null,
   "metadata": {},
   "outputs": [],
   "source": [
    "idade = int(input(\"Digite sua idade:\"))\n",
    "ano_atual = int(input(\"Digite o ano atual:\"))\n",
    "print(ano_atual - idade)\n"
   ]
  },
  {
   "cell_type": "markdown",
   "metadata": {},
   "source": [
    "## Seção 5\n",
    "### Problema 1:\n",
    "Faça um programa que receba dois números e mostre qual deles é o maior"
   ]
  },
  {
   "cell_type": "code",
   "execution_count": 2,
   "metadata": {
    "scrolled": true
   },
   "outputs": [
    {
     "name": "stdout",
     "output_type": "stream",
     "text": [
      "Digite o primeiro número:2\n",
      "Digite o segundo número:2\n",
      "São iguais!\n"
     ]
    }
   ],
   "source": [
    "num1 = int(input(\"Digite o primeiro número:\"))\n",
    "num2 = int(input(\"Digite o segundo número:\"))\n",
    "if num1 > num2:\n",
    "    print(num1)\n",
    "elif num2> num1:\n",
    "    print(num2)\n",
    "else:\n",
    "    print(\"São iguais!\")"
   ]
  },
  {
   "cell_type": "markdown",
   "metadata": {},
   "source": [
    "### Problema 3: \n",
    "leia um número real, se o número for positivo imprima a raiz quadrada, do contrário, imprima o número ao quadrado.\n",
    "    "
   ]
  },
  {
   "cell_type": "code",
   "execution_count": 6,
   "metadata": {},
   "outputs": [
    {
     "name": "stdout",
     "output_type": "stream",
     "text": [
      "Digite o número:-4\n",
      "16.0\n"
     ]
    }
   ],
   "source": [
    "from math import sqrt\n",
    "num = float(input(\"Digite o número:\"))\n",
    "if num > 0:\n",
    "    print(sqrt(num))\n",
    "else:\n",
    "    print(num**2)"
   ]
  },
  {
   "cell_type": "markdown",
   "metadata": {},
   "source": [
    "### Problema 11:\n",
    "Escreva um programa que leia um número inteiro maior do que zero e devolva, na tela, a soma de todos os seus algarismos. Exemplo: <br> \n",
    "Entrada: 251 <br>\n",
    "saída: 8<br>\n",
    "Se o número lido não for maior do que zero, o programa terminará com a mensagem \"número inválido\"."
   ]
  },
  {
   "cell_type": "code",
   "execution_count": 1,
   "metadata": {},
   "outputs": [
    {
     "name": "stdout",
     "output_type": "stream",
     "text": [
      "Digite o número:251\n",
      "8\n"
     ]
    }
   ],
   "source": [
    "\"\"\"\n",
    "Anotações sobre o conteúdo do curso de python\n",
    "\"\"\"\n",
    "\n",
    "num = input(\"Digite o número:\")\n",
    "soma = 0\n",
    "if int(num) > 0:\n",
    "    for valor in num:\n",
    "        soma += int(valor)\n",
    "    print(soma)\n",
    "else:\n",
    "    print(\"número inválido\")"
   ]
  },
  {
   "cell_type": "markdown",
   "metadata": {},
   "source": [
    "### Problema 13: \n",
    "Faça um algoritmo que calcule a média ponderada das notas de 3 provas. A primeira e a segunda prova têm peso 1 e a terceira tem peso 2. Ao final, mostrar a média do aluno e indicar se o aluno foi aprovado ou reprovado. A nota para aprovação deve ser igual ou superior a 60 pontos."
   ]
  },
  {
   "cell_type": "code",
   "execution_count": 12,
   "metadata": {},
   "outputs": [
    {
     "name": "stdout",
     "output_type": "stream",
     "text": [
      "Digite a 1º nota:6\n",
      "Digite a 2º nota:6\n",
      "Digite a 3º nota:6\n",
      "6.0\n",
      "Aprovado\n"
     ]
    }
   ],
   "source": [
    "soma = 0\n",
    "\"\"\"\n",
    "não utilizando estrutura de repetição para evitar uma complexidade \n",
    "O(n), para esse programa em específico, essa forma abaixo pareceu mais efeciente,\n",
    "tendo em vista que o conteúdo que pode utilizar nessa seção são conteúdos\n",
    "básicos, e como o programa não irá utilizar cada nota individual, foi usado uma variável\n",
    "apenas para acumular as notas com seu devido peso, evitando desperdício\n",
    "de memória.(em próximas seções, será utilizado o mesmo exemplo, com solução diferente)\n",
    "\"\"\"\n",
    "soma += int(input(\"Digite a 1ª nota:\"))*1\n",
    "soma += int(input(\"Digite a 2ª nota:\"))*1\n",
    "soma += int(input(\"Digite a 3ª nota:\"))*2\n",
    "media = soma/(1+1+2)\n",
    "\n",
    "if media >= 6:\n",
    "    print(media)\n",
    "    print(\"Aprovado\")\n",
    "else: \n",
    "    print(media)\n",
    "    print(\"Reprovado\")"
   ]
  },
  {
   "cell_type": "markdown",
   "metadata": {},
   "source": [
    "### Problema 25:\n",
    "Calcule as raízes da equação de  2º grau. Lembrando que: $$\n",
    "x= \\frac{-b\\pm\\sqrt{\\Delta}}{2a} \n",
    "$$ onde $$ \\Delta = b^2 - 4ac $$ e $$ax^2 + bx + c = 0 $$ representa uma equação de 2º grau. <br>\n",
    "A variável a tem que ser diferente de zero, caso seja igual, imprima a mensagem \"Não é equação de segundo grau\". \n",
    "- Se delta < 0, não existe real. Imprima a mensagem \"Não existe raiz\n",
    "- Se delta = 0, existe uma raiz real. Imprima a raiz e a mensagem raiz única.\n",
    "- Se delta > 0, imprima as duas raízes reais.\n"
   ]
  },
  {
   "cell_type": "code",
   "execution_count": 19,
   "metadata": {},
   "outputs": [
    {
     "name": "stdout",
     "output_type": "stream",
     "text": [
      "------Equação do 2º grau: ax^2 + bx + c = 0 ---------\n",
      "Digite o valor de a:1\n",
      "Digite o valor de b:-10\n",
      "Digite o valor de c:0\n",
      "Raíz 1: 10.0, Raíz 2: 0.0\n"
     ]
    }
   ],
   "source": [
    "from math import sqrt\n",
    "print(\"------Equação do 2º grau: ax^2 + bx + c = 0 ---------\")\n",
    "a = int(input(\"Digite o valor de a:\"))\n",
    "b = int(input(\"Digite o valor de b:\"))\n",
    "c = int(input(\"Digite o valor de c:\"))\n",
    "\n",
    "delta = (b**2) - (4*a*c)\n",
    "\n",
    "if delta < 0:\n",
    "    print(\"Não existe raiz\")\n",
    "elif delta == 0:\n",
    "    x1 = (-b+sqrt(delta))/(2*a)\n",
    "    print(x1)\n",
    "    print(\"Raíz única\")\n",
    "else:\n",
    "    x1 = (-b+sqrt(delta))/(2*a)\n",
    "    x2 = (-b-sqrt(delta))/(2*a)\n",
    "    print(f\"Raíz 1: {x1}, Raíz 2: {x2}\")\n",
    "\n"
   ]
  },
  {
   "cell_type": "markdown",
   "metadata": {},
   "source": [
    "### Problema 30: \n",
    "Faça um programa que receba três números e mostre-os em ordem crescente."
   ]
  },
  {
   "cell_type": "code",
   "execution_count": 7,
   "metadata": {},
   "outputs": [
    {
     "name": "stdout",
     "output_type": "stream",
     "text": [
      "Digite a 1º número:2\n",
      "Digite a 2º número:5\n",
      "Digite a 3º número:3\n",
      "2 3 5\n"
     ]
    }
   ],
   "source": [
    "num1 = int(input(\"Digite a 1º número:\"))\n",
    "num2 = int(input(\"Digite a 2º número:\"))\n",
    "num3 = int(input(\"Digite a 3º número:\"))\n",
    "\n",
    "if num1 > num2 and num1 > num3 and num2 >= num3:\n",
    "    print(num3, num2, num1)\n",
    "elif num1 > num2 and num1 > num3 and num3 >= num2:\n",
    "    print(num2, num3, num1)\n",
    "elif num2 > num1 and num2 > num3 and num1 >= num3:\n",
    "    print(num3, num1, num2)\n",
    "elif num2 > num1 and num2 > num3 and num3 >= num1:\n",
    "    print(num1, num3, num2)\n",
    "elif num3 > num1 and num3 > num2 and num1 >= num2:\n",
    "    print(num2, num1, num3)\n",
    "elif num3 > num1 and num3 > num2 and num2 >= num1:\n",
    "    print(num1, num2, num3)\n",
    "else:\n",
    "    print(\"numeros iguais!\")\n"
   ]
  }
 ],
 "metadata": {
  "kernelspec": {
   "display_name": "Python 3",
   "language": "python",
   "name": "python3"
  },
  "language_info": {
   "codemirror_mode": {
    "name": "ipython",
    "version": 3
   },
   "file_extension": ".py",
   "mimetype": "text/x-python",
   "name": "python",
   "nbconvert_exporter": "python",
   "pygments_lexer": "ipython3",
   "version": "3.8.5"
  }
 },
 "nbformat": 4,
 "nbformat_minor": 4
}
