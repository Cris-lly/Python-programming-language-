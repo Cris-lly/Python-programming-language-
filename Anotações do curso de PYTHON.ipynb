{
 "cells": [
  {
   "cell_type": "markdown",
   "metadata": {},
   "source": [
    "## 1ª parte do curso- Conteúdo básico em python\n",
    " - Obs: Alguns problemas estão resolvidos de maneira mais \"maçante\" para fins didáticos, a medida que o curso avança, são utilizados outros métodos para resolução de problemas, de modo mais apropriado para a linguagem Python, com funções próprias da linguagem entre outras coisas(bibliotecas...)"
   ]
  },
  {
   "cell_type": "markdown",
   "metadata": {},
   "source": [
    "### Programa simples utilizando estruturas condicionais, funções para formatação de string e slice de string.\n",
    "\n",
    "#### Problema: \n",
    "fazer verificação de idade e imprimir somente o primeiro nome caso o usuário queira com inicial maiúscula."
   ]
  },
  {
   "cell_type": "code",
   "execution_count": 2,
   "metadata": {},
   "outputs": [
    {
     "name": "stdout",
     "output_type": "stream",
     "text": [
      "Status da idade: maior de idade\n",
      "visualizar apenas o primeiro nome?sim\n",
      "Cristiane\n"
     ]
    }
   ],
   "source": [
    "\"\"\"\n",
    "Anotações sobre o conteúdo do curso de python\n",
    "\n",
    "\n",
    "\"\"\"\n",
    "#declarando variáveis\n",
    "nome = 'cristiane kelly'\n",
    "idade = 19\n",
    "i = 0\n",
    "\n",
    "#fazendo verificação da idade\n",
    "if idade > 18:\n",
    "    print(\"Status da idade: maior de idade\")\n",
    "elif idade < 18:\n",
    "    print(\"menor de idade\")\n",
    "else:\n",
    "    print(\"tem 18\")\n",
    "\n",
    "entrada = input(\"visualizar apenas o primeiro nome?\")\n",
    "\n",
    "#utilizando a função de transformar tudo maiúscula para tratamento de exceções\n",
    "if entrada.upper() == 'SIM':\n",
    "    #utilizando linguagem estruturadas como o C \n",
    "    while nome[i] != \" \":\n",
    "        #verificando final do primeiro através do espaço\n",
    "        if nome[i+1] == \" \":\n",
    "            #imprimindo com a inicial maiúscula e fazendo slice de string\n",
    "            print(nome[0:i+1].title())\n",
    "        i += 1\n",
    "else:\n",
    "    print(\"FIM DO PROGRAMA\")\n",
    "    "
   ]
  },
  {
   "cell_type": "markdown",
   "metadata": {},
   "source": [
    "### utilizando uma entrada de inteiros e colocando cada palavra em uma lista de string \n",
    "#### Problema:\n",
    "imprimir o nome completo ou somente o primeiro nome acessando a posição da lista de string que foi gerada"
   ]
  },
  {
   "cell_type": "code",
   "execution_count": 3,
   "metadata": {},
   "outputs": [
    {
     "name": "stdout",
     "output_type": "stream",
     "text": [
      "mostrar:\n",
      "1-nome completo\n",
      "2- primeiro nome\n",
      "2\n",
      "cristiane\n"
     ]
    }
   ],
   "source": [
    "\"\"\"\n",
    "Anotações sobre o conteúdo do curso de python\n",
    "\"\"\"\n",
    "#declarando variáveis\n",
    "nome = 'cristiane kelly'\n",
    "idade = 19\n",
    "i = 0\n",
    "\n",
    "print(\"mostrar:\")\n",
    "print(\"1-nome completo\")\n",
    "print(\"2- primeiro nome\")\n",
    "entrada = int(input())\n",
    "\n",
    "if entrada == 1:\n",
    "    print(nome)\n",
    "else:\n",
    "    print(nome.split()[0])\n",
    "    "
   ]
  },
  {
   "cell_type": "markdown",
   "metadata": {},
   "source": [
    "### Utilizando slice de string e invertendo os elementos da string\n",
    "#### Problema:\n",
    "verificar se a palavra é um palíndromo"
   ]
  },
  {
   "cell_type": "code",
   "execution_count": 5,
   "metadata": {},
   "outputs": [
    {
     "name": "stdout",
     "output_type": "stream",
     "text": [
      "palíndromo!\n"
     ]
    }
   ],
   "source": [
    "\"\"\"\n",
    "Anotações sobre o conteúdo do curso de python\n",
    "\"\"\"\n",
    "#declarando variáveis\n",
    "palavra = 'ana'\n",
    "\n",
    "#fazendo verificação se é um palíndromo\n",
    "if palavra == palavra[::-1]:\n",
    "    print(\"palíndromo!\")\n",
    "else:\n",
    "    print(\"não é um palíndromo!\")\n",
    "    "
   ]
  },
  {
   "cell_type": "markdown",
   "metadata": {},
   "source": [
    "### Usando loop for e contadores em python\n",
    "#### Problema:\n",
    "Contar quantas letras têm em uma string"
   ]
  },
  {
   "cell_type": "code",
   "execution_count": 10,
   "metadata": {},
   "outputs": [
    {
     "name": "stdout",
     "output_type": "stream",
     "text": [
      "Total de letras do nome: 16\n"
     ]
    }
   ],
   "source": [
    "\"\"\"\n",
    "Anotações sobre o conteúdo do curso de python\n",
    "\"\"\"\n",
    "nome = 'ana arruda sampaio'\n",
    "space = 0\n",
    "\n",
    "#enumerate return (indice-posicao da letra, letra)\n",
    "for indice, letra in enumerate(nome):\n",
    "    if letra == ' ':\n",
    "        #contando os espaços\n",
    "        space += 1\n",
    "print(f\"Total de letras do nome: {len(nome)-space}\")\n",
    "    "
   ]
  },
  {
   "cell_type": "markdown",
   "metadata": {},
   "source": [
    "### Imprimindo utilizando range como parâmetro de parada para o for\n",
    "#### Problema:\n",
    "imprimir emojis sem quebra de linha no final"
   ]
  },
  {
   "cell_type": "code",
   "execution_count": 9,
   "metadata": {},
   "outputs": [
    {
     "name": "stdout",
     "output_type": "stream",
     "text": [
      "😂😂😂😂"
     ]
    }
   ],
   "source": [
    "\"\"\"\n",
    "emoji: U+1F602\n",
    "modificado: U0001F602\n",
    "utilizar o valor modificado para poder dá certo\n",
    "obs: só funciona se substituir + por 000\n",
    "\"\"\" \n",
    "for _ in range(1, 5):\n",
    "    print('\\U0001F602', end='')\n"
   ]
  },
  {
   "cell_type": "markdown",
   "metadata": {},
   "source": [
    "### Utilizando o while para fazer  uma verifição juntamente com o operador lógico is"
   ]
  },
  {
   "cell_type": "code",
   "execution_count": 37,
   "metadata": {},
   "outputs": [
    {
     "name": "stdout",
     "output_type": "stream",
     "text": [
      "Digite sua idade:12\n",
      "idade insuficiente!\n",
      "Digite sua idade:18\n",
      "Permitida a entrada!\n"
     ]
    }
   ],
   "source": [
    "verificacao = False\n",
    "while verificacao is False:\n",
    "    num = int(input(\"Digite sua idade:\"))\n",
    "    if num >= 18:\n",
    "        verificacao = True\n",
    "        print(\"Permitida a entrada!\")\n",
    "    else:\n",
    "        print(\"idade insuficiente!\")\n",
    "        "
   ]
  },
  {
   "cell_type": "code",
   "execution_count": 38,
   "metadata": {},
   "outputs": [
    {
     "name": "stdout",
     "output_type": "stream",
     "text": [
      "digite 'sair' para sair do loop:não\n",
      "digite 'sair' para sair do loop:sair\n"
     ]
    }
   ],
   "source": [
    "#eu posso também já estabelecer um loop infinito e sair dele utilizando o break, ex:\n",
    "while True:\n",
    "    comando = input(\"digite 'sair' para sair do loop:\")\n",
    "    if comando.upper() == 'SAIR':\n",
    "        break\n",
    "        "
   ]
  },
  {
   "cell_type": "markdown",
   "metadata": {},
   "source": [
    "### Usando String e função count()\n",
    "Contar quantas vezes a letra 'a' aparece em 3 palavras lidas pelo teclado\n"
   ]
  },
  {
   "cell_type": "code",
   "execution_count": 22,
   "metadata": {},
   "outputs": [
    {
     "name": "stdout",
     "output_type": "stream",
     "text": [
      "Digite a palavra:casa\n",
      "número de vezes que a letra 'a' apareceu: 2\n",
      "Digite a palavra:arvore\n",
      "número de vezes que a letra 'a' apareceu: 1\n",
      "Digite a palavra:letra\n",
      "número de vezes que a letra 'a' apareceu: 1\n"
     ]
    }
   ],
   "source": [
    "for valor in range(3):\n",
    "    palavra = input(\"Digite a palavra:\")\n",
    "    contador = palavra.count('a')\n",
    "    if contador > 0:\n",
    "        print(f\"número de vezes que a letra 'a' apareceu: {contador}\")\n",
    "    else:\n",
    "        print(\"não tem a letra 'a'!\")\n",
    "        "
   ]
  },
  {
   "cell_type": "markdown",
   "metadata": {},
   "source": [
    "## 2ª parte do curso - Conteúdo básico próprio do python\n",
    "- Coleções\n",
    "- Funções\n",
    "- Debugando e tratando erros"
   ]
  },
  {
   "cell_type": "markdown",
   "metadata": {},
   "source": [
    "\n",
    "## Lista\n"
   ]
  },
  {
   "cell_type": "markdown",
   "metadata": {},
   "source": [
    "### Inserção "
   ]
  },
  {
   "cell_type": "code",
   "execution_count": 5,
   "metadata": {
    "scrolled": true
   },
   "outputs": [
    {
     "name": "stdout",
     "output_type": "stream",
     "text": [
      "digite um numero:3\n",
      "digite um numero:4\n",
      "digite um numero:1\n",
      "[3, 4, 1]\n"
     ]
    }
   ],
   "source": [
    "#inserindo elementos um por vez em uma lista de forma dinâmica\n",
    "lista = []\n",
    "for valor in range(3):\n",
    "    number = int(input(\"digite um numero:\"))\n",
    "    lista.append(number)\n",
    "print(lista)\n"
   ]
  },
  {
   "cell_type": "code",
   "execution_count": 3,
   "metadata": {},
   "outputs": [
    {
     "name": "stdout",
     "output_type": "stream",
     "text": [
      "[3, 1, 2, 'a', 'b', 'c']\n"
     ]
    }
   ],
   "source": [
    "# inserindo elementos todo de uma vez e concatenação de listas\n",
    "\"\"\"\n",
    "Há dois modos para concatenar, como eu quero inserir elementos de uma vez em uma lista, utilizei a função extend(), para\n",
    "fins didáticos, porém, eu posso fazer esse mesmo processo(de concatenação) do seguinte modo:\n",
    "\n",
    "lista1 = lista1 + lista2\n",
    "\"\"\"\n",
    "lista1 = [3, 1, 2]\n",
    "lista2 = ['a', 'b', 'c']\n",
    "lista1.extend(lista2)\n",
    "print(lista1)\n"
   ]
  },
  {
   "cell_type": "code",
   "execution_count": 21,
   "metadata": {},
   "outputs": [
    {
     "name": "stdout",
     "output_type": "stream",
     "text": [
      "[1, 2, 3, 4, 5]\n"
     ]
    }
   ],
   "source": [
    "#inserindo elementos no meio de uma lista\n",
    "lista = [1, 3, 4, 5]\n",
    "lista.insert(1, 2)\n",
    "print(lista)\n"
   ]
  },
  {
   "cell_type": "markdown",
   "metadata": {},
   "source": [
    "### Removendo elementos de uma lista"
   ]
  },
  {
   "cell_type": "code",
   "execution_count": 20,
   "metadata": {},
   "outputs": [
    {
     "name": "stdout",
     "output_type": "stream",
     "text": [
      "[1, 2, 3, 4]\n",
      "[1, 3, 4]\n",
      "[1, 3]\n",
      "[]\n"
     ]
    }
   ],
   "source": [
    "lista = [0, 1, 2, 3, 4]\n",
    "#inicio\n",
    "lista.pop(0)\n",
    "print(lista)\n",
    "#meio\n",
    "lista.pop(1)\n",
    "print(lista)\n",
    "#final\n",
    "lista.pop()\n",
    "print(lista)\n",
    "# removendo conteúdo(todos elementos) da lista\n",
    "lista.clear()\n",
    "print(lista)\n"
   ]
  },
  {
   "cell_type": "markdown",
   "metadata": {},
   "source": [
    "### Consultando e realizando operações básicas com lista\n"
   ]
  },
  {
   "cell_type": "code",
   "execution_count": 19,
   "metadata": {},
   "outputs": [
    {
     "name": "stdout",
     "output_type": "stream",
     "text": [
      "[3, 4, 5, 2, 0]\n",
      "[4, 1, 5, 3, 4]\n",
      "tamanho: 5\n",
      "elemento na posição 3: 3\n",
      "elemento na posição 3, iniciando a partir da posição 1: 3\n",
      "elemento de valor 4, no intervalo de 1 à 4: 4\n",
      "[1, 3, 4, 4, 5]\n",
      "[5, 4, 4, 3, 1]\n",
      "cópia da lista: [5, 4, 4, 3, 1]\n",
      "lista invertida: [1, 3, 4, 4, 5]\n",
      "2\n",
      "17\n",
      "5\n",
      "1\n"
     ]
    }
   ],
   "source": [
    "#lista gerada randomicamente:\n",
    "import random\n",
    "lista_random = random.sample(range(0, 9), 5)\n",
    "print(lista_random)\n",
    "\n",
    "#lista gerada manualmente:\n",
    "lista = [4, 1, 5, 3, 4]\n",
    "print(lista)\n",
    "#tamanho de lista manual:\n",
    "print(f\"tamanho: {len(lista)}\")\n",
    "\n",
    "\"\"\"\n",
    "obs: essas buscas retornam a posição do elemento caso ele esteja na lista...\n",
    "\"\"\"\n",
    "#buscando elemento\n",
    "print(f\"elemento na posição 3: {lista.index(3)}\")\n",
    "#buscando elemento através da posição:\n",
    "print(f\"elemento na posição 3, iniciando a partir da posição 1: {lista.index(3, 1)}\")\n",
    "#buscar elemento em um determinado intervalo:\n",
    "print(f\"elemento de valor 4, no intervalo de 1 à 4: {lista.index(4, 1, 5)}\")\n",
    "#obs: o elemento do final tem que ser -1 pois respeita a regra do range, não inclui o número\n",
    "\n",
    "#ordenando lista em ordem crescente:\n",
    "lista.sort()\n",
    "print(lista)\n",
    "#em ordem decrescente: \n",
    "lista.sort(reverse=True)\n",
    "print(lista)\n",
    "\n",
    "#copiando dados para outra lista:\n",
    "\"\"\"\n",
    "É importante observar que existe dois tipos de cópias shallow copy deep copy, deep é quando a cópia não afeta a original, já a shallow é o caso contrário\n",
    "ex de shallow:\n",
    "lista2 = lista\n",
    "\n",
    "ou seja, não utiliza a função copy()\n",
    "\"\"\"\n",
    "lista2 = lista.copy()\n",
    "print(f\"cópia da lista: {lista2}\")\n",
    "\n",
    "#invertendo uma lista\n",
    "lista2.reverse()\n",
    "print(f\"lista invertida: {lista2}\")\n",
    "\n",
    "#contando quantas vezes um determinado elemento aparece:\n",
    "print(lista2.count(4))\n",
    "\n",
    "#somando todos elementos de uma lista\n",
    "print(sum(lista2))\n",
    "\n",
    "#número máximo e mínimo respectivamente:\n",
    "print(max(lista2))\n",
    "print(min(lista2))\n"
   ]
  },
  {
   "cell_type": "markdown",
   "metadata": {},
   "source": [
    "### Conversão \n"
   ]
  },
  {
   "cell_type": "code",
   "execution_count": 18,
   "metadata": {},
   "outputs": [
    {
     "name": "stdout",
     "output_type": "stream",
     "text": [
      "['eu', 'sou', 'seu', 'pai'] <class 'list'>\n",
      "eu sou seu pai <class 'str'>\n",
      "('eu', 'sou', 'seu', 'pai') <class 'tuple'>\n"
     ]
    }
   ],
   "source": [
    "string = \"eu sou seu pai\"\n",
    "#de string para lista:\n",
    "lista = string.split()\n",
    "print(lista, type(lista))\n",
    "\n",
    "#de lista para string:\n",
    "nova_string = ' '.join(lista)\n",
    "print(nova_string, type(nova_string))\n",
    "\n",
    "#de lista para tupla:\n",
    "tupla = tuple(lista)\n",
    "print(tupla, type(tupla))\n"
   ]
  },
  {
   "cell_type": "markdown",
   "metadata": {},
   "source": [
    "### Anotações: "
   ]
  },
  {
   "cell_type": "code",
   "execution_count": 17,
   "metadata": {},
   "outputs": [
    {
     "name": "stdout",
     "output_type": "stream",
     "text": [
      "[1, 5]\n"
     ]
    }
   ],
   "source": [
    "\"\"\"\n",
    "Problema: contar quantos elementos repetidos existem em uma tupla e armazenar a posição desses\n",
    "elementos em uma lista\n",
    "\"\"\"\n",
    "tupla = (1, 4, 5, 2, 3, 4)\n",
    "lista = []\n",
    "i = 0\n",
    "while i < len(tupla):\n",
    "    posicao = tupla.index(4, i)\n",
    "    #não irei tratar erro agora para caso não haja o valor, irei melhorar esse código na seção de TE\n",
    "    lista.append(posicao)\n",
    "    i = posicao + 1\n",
    "print(lista)\n"
   ]
  },
  {
   "cell_type": "markdown",
   "metadata": {},
   "source": [
    "## Dicionários \n"
   ]
  },
  {
   "cell_type": "markdown",
   "metadata": {},
   "source": [
    "### Criando"
   ]
  },
  {
   "cell_type": "code",
   "execution_count": 10,
   "metadata": {},
   "outputs": [
    {
     "name": "stdout",
     "output_type": "stream",
     "text": [
      "{'br': 'Brasil', 'EUA': 'Estados Unidos'}\n",
      "<class 'dict'>\n",
      "{'br': 'Brasil', 'EUA': 'Estados Unidos'}\n",
      "<class 'dict'>\n",
      "{'a': 2}\n",
      "<class 'dict'>\n"
     ]
    }
   ],
   "source": [
    "\"\"\"\n",
    "Nos dicionários existem duas formas para fazer a criação\n",
    "\"\"\"\n",
    "#1ª forma(mais comum):\n",
    "dicionary = {'br': 'Brasil', 'EUA': 'Estados Unidos'}\n",
    "print(dicionary)\n",
    "print(type(dicionary))\n",
    "\n",
    "#2ª forma(Menos comum):\n",
    "dicionary = dict(br='Brasil', EUA='Estados Unidos')\n",
    "print(dicionary)\n",
    "print(type(dicionary))\n",
    "\n",
    "#3ª forma- utilizando fromkeys()\n",
    "d = {}.fromkeys('a', 2)\n",
    "print(d)\n",
    "print(type(d))\n"
   ]
  },
  {
   "cell_type": "markdown",
   "metadata": {},
   "source": [
    "### Acessando elementos de um dicionário\n",
    " "
   ]
  },
  {
   "cell_type": "code",
   "execution_count": 1,
   "metadata": {},
   "outputs": [
    {
     "name": "stdout",
     "output_type": "stream",
     "text": [
      "brasil\n",
      "brasil\n"
     ]
    }
   ],
   "source": [
    "#via chave\n",
    "dicionario = {'br': 'brasil', 'eua': 'estados unidos'}\n",
    "print(dicionario['br'])\n",
    "\n",
    "#via get(forma mais recomendada)\n",
    "p = dicionario.get('br')\n",
    "print(p)\n"
   ]
  },
  {
   "cell_type": "markdown",
   "metadata": {},
   "source": [
    "### Inserindo e atualizando"
   ]
  },
  {
   "cell_type": "code",
   "execution_count": 6,
   "metadata": {},
   "outputs": [
    {
     "name": "stdout",
     "output_type": "stream",
     "text": [
      "{'br': 'brasil'}\n",
      "{'br': 'brasil', 'eua': 'estados unidos'}\n",
      "{'br': 'brasil', 'eua': 'estados unidos', 'py': 'paraguai'}\n"
     ]
    }
   ],
   "source": [
    "#forma mais comum\n",
    "dicionario = {'br': 'brasil'}\n",
    "print(dicionario)\n",
    "\n",
    "dicionario['eua'] = 'estados unidos'\n",
    "print(dicionario)\n",
    "\n",
    "#forma utilizando o update \n",
    "novo_dado = {'py': 'paraguai'}\n",
    "dicionario.update(novo_dado)\n",
    "# ou: dicionario.update({'py': 'paraguai'})\n",
    "print(dicionario)\n"
   ]
  },
  {
   "cell_type": "markdown",
   "metadata": {},
   "source": [
    "### Interando dicionários"
   ]
  },
  {
   "cell_type": "code",
   "execution_count": 15,
   "metadata": {},
   "outputs": [
    {
     "name": "stdout",
     "output_type": "stream",
     "text": [
      "a\n",
      "b\n",
      "c\n",
      "1\n",
      "2\n",
      "3\n",
      "1\n",
      "2\n",
      "3\n",
      "dict_keys(['a', 'b', 'c'])\n"
     ]
    }
   ],
   "source": [
    "dicionario = {'a': 1, 'b': 2, 'c': 3}\n",
    "#imprimindo apenas as chaves\n",
    "for chave in dicionario.keys(): \n",
    "    print(chave)\n",
    "#obs: pode ser só dicionario ao invés de dicionario.keys, esse só é o modo pythonico para fazer essa tarefa\n",
    "#imprimindo os valores das chaves\n",
    "for chave in dicionario: \n",
    "    print(dicionario[chave])\n",
    "    \n",
    "#ou utilizar a forma pythonica:\n",
    "for valor in dicionario.values():\n",
    "    print(valor)\n",
    "#imprimindo todas as chaves\n",
    "print(dicionario.keys())\n"
   ]
  },
  {
   "cell_type": "markdown",
   "metadata": {},
   "source": [
    "### Algumas operações"
   ]
  },
  {
   "cell_type": "code",
   "execution_count": 14,
   "metadata": {},
   "outputs": [
    {
     "name": "stdout",
     "output_type": "stream",
     "text": [
      "1\n",
      "3\n",
      "6\n",
      "3\n"
     ]
    }
   ],
   "source": [
    "dicionario = {'a': 1, 'b': 2, 'c': 3}\n",
    "print(min(dicionario.values()))\n",
    "print(max(dicionario.values()))\n",
    "print(sum(dicionario.values()))\n",
    "print(len(dicionario))\n"
   ]
  },
  {
   "cell_type": "markdown",
   "metadata": {},
   "source": [
    "## Conjuntos\n",
    "### Criação "
   ]
  },
  {
   "cell_type": "code",
   "execution_count": 13,
   "metadata": {},
   "outputs": [
    {
     "name": "stdout",
     "output_type": "stream",
     "text": [
      "{1, 2, 99, 34, 5, 3, 4, 12, 44, 23}\n"
     ]
    }
   ],
   "source": [
    "# Definindo um conjunto: (forma mais comum)\n",
    "conjunto = {99, 2, 34, 23, 2, 12, 1, 44, 5, 3, 4}\n",
    "print(conjunto)\n",
    "# é importante observar que um conjunto não aceita elementos repetidos\n"
   ]
  },
  {
   "cell_type": "code",
   "execution_count": 12,
   "metadata": {},
   "outputs": [
    {
     "name": "stdout",
     "output_type": "stream",
     "text": [
      "{1, 2, 99, 34, 5, 3, 4, 12, 44, 23}\n"
     ]
    }
   ],
   "source": [
    "# forma menos usual: \n",
    "conjunto = set({99, 2, 34, 23, 2, 12, 1, 44, 5, 3, 4})\n",
    "print(conjunto)\n"
   ]
  },
  {
   "cell_type": "markdown",
   "metadata": {},
   "source": [
    "### Adicionando elementos"
   ]
  },
  {
   "cell_type": "code",
   "execution_count": 41,
   "metadata": {},
   "outputs": [
    {
     "name": "stdout",
     "output_type": "stream",
     "text": [
      "{1, 2, 4, 5, 7}\n"
     ]
    }
   ],
   "source": [
    "conjunto = {1, 2, 4, 7}\n",
    "conjunto.add(5)\n",
    "print(conjunto)"
   ]
  },
  {
   "cell_type": "markdown",
   "metadata": {},
   "source": [
    "### Remoção"
   ]
  },
  {
   "cell_type": "code",
   "execution_count": 47,
   "metadata": {},
   "outputs": [
    {
     "name": "stdout",
     "output_type": "stream",
     "text": [
      "{1, 4, 7}\n",
      "{1, 7}\n"
     ]
    }
   ],
   "source": [
    "#Removendo com a função remove(), caso ela não ache o elemento, retorna keyerror\n",
    "conjunto = {1, 2, 4, 7}\n",
    "conjunto.remove(2)\n",
    "print(conjunto)\n",
    "\n",
    "# utilizando a função discard(), caso não encontre o elemento, não retorna erro\n",
    "conjunto.discard(22)\n",
    "conjunto.discard(4)\n",
    "print(conjunto)"
   ]
  },
  {
   "cell_type": "markdown",
   "metadata": {},
   "source": [
    "### Algumas operações com conjuntos"
   ]
  },
  {
   "cell_type": "code",
   "execution_count": 53,
   "metadata": {},
   "outputs": [
    {
     "name": "stdout",
     "output_type": "stream",
     "text": [
      "{1, 2, 99, 34, 5, 3, 4, 12, 44, 23}\n",
      "[1, 2, 3, 4, 5, 12, 23, 34, 44, 99]\n",
      "Tem\n"
     ]
    }
   ],
   "source": [
    "\"\"\"\n",
    "Operações como cópia, soma dos elementos, valores máximos e mínimos seguem o mesmo padrão das outras\n",
    "coleções\n",
    "\"\"\"\n",
    "\n",
    "conjunto = set({99, 2, 34, 23, 2, 12, 1, 44, 5, 3, 4})\n",
    "print(conjunto)\n",
    "\n",
    "# gerando uma lista através de um conjunto e ordenando\n",
    "lista = list(conjunto)\n",
    "lista.sort()\n",
    "print(lista)\n",
    "\n",
    "#verificando se um elemento está contido em um conjunto \n",
    "if 3 in conjunto:\n",
    "    print(\"Tem\")\n",
    "else: \n",
    "    print(\"Não tem\")\n"
   ]
  },
  {
   "cell_type": "markdown",
   "metadata": {},
   "source": [
    "### Teoria dos conjuntos "
   ]
  },
  {
   "cell_type": "code",
   "execution_count": 52,
   "metadata": {},
   "outputs": [
    {
     "name": "stdout",
     "output_type": "stream",
     "text": [
      "{1, 2, 3, 4, 5, 6, 8}\n",
      "{1, 2, 3, 4, 5, 6, 8}\n",
      "{2}\n",
      "{1, 3, 5}\n",
      "{8, 4, 6}\n"
     ]
    }
   ],
   "source": [
    "#unindo dois conjuntos- forma 1(mais recomendada)\n",
    "conjunto_a = {1, 3, 2, 5}\n",
    "conjunto_b = {2, 4, 6, 8}\n",
    "uniao = conjunto_a.union(conjunto_b)\n",
    "print(uniao)\n",
    "\n",
    "#forma 2\n",
    "uni = conjunto_a | conjunto_b\n",
    "print(uni)\n",
    "\n",
    "#interseção\n",
    "inter = conjunto_a.intersection(conjunto_b)\n",
    "print(inter)\n",
    "\n",
    "#diferença(elementos q só pertence aquele conjunto em específico)\n",
    "difer = conjunto_a.difference(conjunto_b)\n",
    "print(difer)\n",
    "difer = conjunto_b.difference(conjunto_a)\n",
    "print(difer)"
   ]
  },
  {
   "cell_type": "markdown",
   "metadata": {},
   "source": [
    "## Funções\n",
    "### Definição\n"
   ]
  },
  {
   "cell_type": "code",
   "execution_count": 14,
   "metadata": {},
   "outputs": [
    {
     "name": "stdout",
     "output_type": "stream",
     "text": [
      "oi\n",
      "Help on function diz_oi in module __main__:\n",
      "\n",
      "diz_oi()\n",
      "    Função que diz oi\n",
      "\n"
     ]
    }
   ],
   "source": [
    "#definindo uma função e documentando com docstring:\n",
    "def diz_oi():\n",
    "    \"\"\"Função que diz oi\"\"\"\n",
    "    print(\"oi\")\n",
    "    \n",
    "    \n",
    "#chamando uma função:\n",
    "diz_oi()\n",
    "#vendo o que ela faz:\n",
    "help(diz_oi)\n"
   ]
  },
  {
   "cell_type": "markdown",
   "metadata": {},
   "source": [
    "### Funções com retorno"
   ]
  },
  {
   "cell_type": "code",
   "execution_count": 7,
   "metadata": {},
   "outputs": [
    {
     "name": "stdout",
     "output_type": "stream",
     "text": [
      "25\n"
     ]
    }
   ],
   "source": [
    "#função para retornar o quadrado de 5\n",
    "def quadrado_de_5():\n",
    "    return 5*5\n",
    "\n",
    "\n",
    "print(quadrado_de_5())\n"
   ]
  },
  {
   "cell_type": "code",
   "execution_count": 6,
   "metadata": {},
   "outputs": [
    {
     "name": "stdout",
     "output_type": "stream",
     "text": [
      "cara\n"
     ]
    }
   ],
   "source": [
    "#função de cara ou coroa\n",
    "from random import random\n",
    "def cara_coroa():\n",
    "    num = random()\n",
    "    if num > 0.5:\n",
    "        return 'coroa'\n",
    "    return 'cara'\n",
    "\n",
    "\n",
    "print(cara_coroa())\n"
   ]
  },
  {
   "cell_type": "markdown",
   "metadata": {},
   "source": [
    "### Funções com parâmetro"
   ]
  },
  {
   "cell_type": "code",
   "execution_count": 4,
   "metadata": {},
   "outputs": [
    {
     "name": "stdout",
     "output_type": "stream",
     "text": [
      "Digite o número:3\n",
      "impar\n"
     ]
    }
   ],
   "source": [
    "#função para verificar se um determinado número é ímpar ou par\n",
    "\n",
    "def impar_par(num):\n",
    "    if num % 2 == 0:\n",
    "        return 'par'\n",
    "    return 'impar'\n",
    "\n",
    "\n",
    "numero = int(input(\"Digite o número:\"))\n",
    "print(impar_par(numero))\n"
   ]
  },
  {
   "cell_type": "code",
   "execution_count": 3,
   "metadata": {},
   "outputs": [
    {
     "name": "stdout",
     "output_type": "stream",
     "text": [
      "6\n"
     ]
    }
   ],
   "source": [
    "#função para somar\n",
    "\n",
    "def soma(a, b):\n",
    "    return a + b\n",
    "\n",
    "\n",
    "print(soma(2, 4))\n"
   ]
  },
  {
   "cell_type": "code",
   "execution_count": 2,
   "metadata": {},
   "outputs": [
    {
     "name": "stdout",
     "output_type": "stream",
     "text": [
      "5\n",
      "4\n"
     ]
    }
   ],
   "source": [
    "# função utilizando keyword arguments\n",
    "def soma(a, b):\n",
    "    return a + b\n",
    "\n",
    "\n",
    "#abaixo é possível perceber que a ordem, nesse caso, não importa, pois está utilizando keyword arguments\n",
    "print(soma(a=1, b=4))\n",
    "print(soma(b=1, a=3))\n"
   ]
  },
  {
   "cell_type": "markdown",
   "metadata": {},
   "source": [
    "### Funções com valores predefinidos"
   ]
  },
  {
   "cell_type": "code",
   "execution_count": 9,
   "metadata": {},
   "outputs": [
    {
     "name": "stdout",
     "output_type": "stream",
     "text": [
      "0\n",
      "1\n",
      "2\n"
     ]
    }
   ],
   "source": [
    "\"\"\"\n",
    "são funções no qual o parâmetro da função já é inicializado(predefinido)- default parameters\n",
    "\"\"\"\n",
    "#Exemplo 1:\n",
    "def soma(num1=0, num2=0):\n",
    "    return num1 + num2\n",
    "\n",
    "\n",
    "print(soma())\n",
    "print(soma(1))\n",
    "print(soma(1, 1))\n"
   ]
  },
  {
   "cell_type": "code",
   "execution_count": 12,
   "metadata": {},
   "outputs": [
    {
     "name": "stdout",
     "output_type": "stream",
     "text": [
      "5\n",
      "-1\n"
     ]
    }
   ],
   "source": [
    "#Exemplo 2: Definindo uma função como valor padrão\n",
    "def soma(x, y):\n",
    "    return x+y\n",
    "\n",
    "\n",
    "def sub(x, y):\n",
    "    return x-y\n",
    "\n",
    "\n",
    "def fun(num1, num2, opera=soma):\n",
    "    return opera(num1, num2)\n",
    "\n",
    "\n",
    "#valor padrão irá realizar a soma\n",
    "print(fun(2, 3))\n",
    "\n",
    "#valor escolhido pelo usuário irá realizar uma outra operação(subtração)\n",
    "print(fun(2, 3, sub))\n"
   ]
  },
  {
   "cell_type": "markdown",
   "metadata": {},
   "source": [
    "### Funções com parâmetros *args"
   ]
  },
  {
   "cell_type": "code",
   "execution_count": 17,
   "metadata": {},
   "outputs": [
    {
     "name": "stdout",
     "output_type": "stream",
     "text": [
      "1\n",
      "6\n",
      "13\n"
     ]
    }
   ],
   "source": [
    "def soma(*args):\n",
    "    \"\"\"\n",
    "    função que recebe como parâmetros o *args, no qual transforma os argumentos em uma tupla e soma esses valores\n",
    "    :param args: pode ter n tamanho, podendo realizar a soma de 1, 2,..., n números\n",
    "    \"\"\"\n",
    "    return sum(args)\n",
    "\n",
    "\n",
    "#imprimindo o retorno da função\n",
    "print(soma(1))\n",
    "print(soma(2, 4))\n",
    "print(soma(2, 5, 6))\n"
   ]
  },
  {
   "cell_type": "code",
   "execution_count": 18,
   "metadata": {},
   "outputs": [
    {
     "name": "stdout",
     "output_type": "stream",
     "text": [
      "7\n"
     ]
    }
   ],
   "source": [
    "#desempacotando uma lista para utilizá-la na função\n",
    "def soma(*args):\n",
    "    \"\"\"\n",
    "    função que recebe como parâmetros o *args, no qual transforma os argumentos em uma tupla e soma esses valores\n",
    "    :param args: pode ter n tamanho, podendo realizar a soma de 1, 2,..., n números\n",
    "    \"\"\"\n",
    "    return sum(args)\n",
    "\n",
    "\n",
    "lista = [1, 2, 4]\n",
    "print(soma(*lista))\n"
   ]
  },
  {
   "cell_type": "markdown",
   "metadata": {},
   "source": [
    "### Funções com parâmetros **kwargs"
   ]
  },
  {
   "cell_type": "code",
   "execution_count": 11,
   "metadata": {},
   "outputs": [
    {
     "name": "stdout",
     "output_type": "stream",
     "text": [
      "{'ana': 'azul', 'liz': 'verde'}\n"
     ]
    }
   ],
   "source": [
    "def cores_fav(**kwargs):\n",
    "    return kwargs\n",
    "\n",
    "print(cores_fav(ana='azul', liz=\"verde\"))\n"
   ]
  },
  {
   "cell_type": "code",
   "execution_count": 26,
   "metadata": {},
   "outputs": [
    {
     "name": "stdout",
     "output_type": "stream",
     "text": [
      "ana cibele\n"
     ]
    }
   ],
   "source": [
    "#desempacotando com **kwargs\n",
    "def mostra_nome(**kwargs):\n",
    "    return f\"{kwargs['nome']} {kwargs['sobrenome']}\"\n",
    "\n",
    "\n",
    "dici = {'nome': 'ana', 'sobrenome': 'cibele'}\n",
    "print(mostra_nome(**dici))\n"
   ]
  },
  {
   "cell_type": "markdown",
   "metadata": {},
   "source": [
    "## Debugando e tratamento de erros\n"
   ]
  },
  {
   "cell_type": "markdown",
   "metadata": {},
   "source": [
    "### Utilizando o raise\n",
    "\n",
    "Ele é usado para tratamento de exceções de funções/atributos criados por nós."
   ]
  },
  {
   "cell_type": "code",
   "execution_count": 10,
   "metadata": {},
   "outputs": [
    {
     "name": "stdout",
     "output_type": "stream",
     "text": [
      "o texto céu será impresso na cor azul\n"
     ]
    }
   ],
   "source": [
    "def colore(texto, cor):\n",
    "    if type(texto) is not str:\n",
    "        raise TypeError('Tipo de dado errado')\n",
    "    if type(cor) is not str:\n",
    "        raise TypeError('Tipo de dado errado')\n",
    "    print(f\"o texto {texto} será impresso na cor {cor}\")\n",
    "\n",
    "    \n",
    "colore('céu', 'azul')\n"
   ]
  },
  {
   "cell_type": "markdown",
   "metadata": {},
   "source": [
    "### Utilizando o bloco try/except"
   ]
  },
  {
   "cell_type": "code",
   "execution_count": 9,
   "metadata": {},
   "outputs": [
    {
     "name": "stdout",
     "output_type": "stream",
     "text": [
      "deu problema\n",
      "Problema de NameError\n",
      "Problema de NameError apresentando a seguinte mensagem : name 'funcao_inexistente' is not defined\n",
      "valor\n",
      "digite o número: numero\n",
      "erro\n",
      "digite o número: 3\n"
     ]
    }
   ],
   "source": [
    "#Tratando erros de forma genérica:\n",
    "try:\n",
    "    funcao_inexistente()\n",
    "except:\n",
    "    print(\"deu problema\")\n",
    "    \n",
    "#Tratando erro de modo explícito:\n",
    "try: \n",
    "    funcao_inexistente()\n",
    "except NameError:\n",
    "    print(\"Problema de NameError\")\n",
    "    \n",
    "#Tratando de forma explícita e detalhada:\n",
    "try: \n",
    "    funcao_inexistente()\n",
    "except NameError as err:\n",
    "    print(f\"Problema de NameError apresentando a seguinte mensagem : {err}\")\n",
    "    \n",
    "#Exemplo dentro de uma função:\n",
    "def pega_valor(dic, chave):\n",
    "    try:\n",
    "        return dic[chave]\n",
    "    except KeyError:\n",
    "        return None\n",
    "    except TypeError:\n",
    "        return None\n",
    "\n",
    "    \n",
    "dicionario = {'chave': 'valor'}\n",
    "print(pega_valor(dicionario, 'chave'))\n",
    "\n",
    "#Exemplo de uma validação de dados\n",
    "ativa = False\n",
    "while not ativa:\n",
    "    try:\n",
    "        number = int(input(\"digite o número: \"))\n",
    "        ativa = True\n",
    "    except ValueError:\n",
    "        print(\"erro\")\n"
   ]
  },
  {
   "cell_type": "code",
   "execution_count": null,
   "metadata": {},
   "outputs": [],
   "source": [
    "\"\"\"\n",
    "Serão mostradas duas maneiras de realizar um tratamento de exceção\n",
    "1- modo errado:\n",
    "    pois o mais adequado é realizar esse tratamento dentro da função criada\n",
    "2 - modo correto:\n",
    "    exceções tratadas dentro da função\n",
    "\"\"\"\n",
    "#Exemplo complexo errado:\n",
    "def divisao(a, b):\n",
    "    return a/b\n",
    "\n",
    "try:\n",
    "    number_a = int(input(\"digite o número: \"))\n",
    "    number_b = int(input(\"digite o número: \"))\n",
    "except ValueError:\n",
    "    print(\"ERRO\")\n",
    "try:\n",
    "    print(divisao(number_a, number_b))\n",
    "except ZeroDivisionError:\n",
    "    print(\"ERRO\")\n"
   ]
  },
  {
   "cell_type": "code",
   "execution_count": 8,
   "metadata": {},
   "outputs": [
    {
     "name": "stdout",
     "output_type": "stream",
     "text": [
      "digite o número: 3\n",
      "digite o número: 0\n",
      "ERRO: division by zero\n"
     ]
    }
   ],
   "source": [
    "#Exemplo complexo correto\n",
    "def divisao(a, b):\n",
    "    try:\n",
    "        return a/b\n",
    "    except(ValueError, ZeroDivisionError) as err:\n",
    "        return f'ERRO: {err}'\n",
    "\n",
    "\n",
    "number_a = int(input(\"digite o número: \"))\n",
    "number_b = int(input(\"digite o número: \"))\n",
    "\n",
    "print(divisao(number_a, number_b))\n"
   ]
  },
  {
   "cell_type": "markdown",
   "metadata": {},
   "source": [
    "### Utilizando try/except/else/finally"
   ]
  },
  {
   "cell_type": "code",
   "execution_count": 15,
   "metadata": {},
   "outputs": [
    {
     "name": "stdout",
     "output_type": "stream",
     "text": [
      "Digite um número:3\n",
      "número: 3\n",
      "Executando o finally\n"
     ]
    }
   ],
   "source": [
    "#Exemplo básico:\n",
    "try:\n",
    "    number = int(input(\"Digite um número:\"))\n",
    "except ValueError:\n",
    "    print(\"Erro\")\n",
    "else:\n",
    "    print(f\"número: {number}\")\n",
    "finally:\n",
    "    print(\"Executando o finally\")\n",
    "#obs: o finally executa tanto dando erro quanto dando certo\n"
   ]
  },
  {
   "cell_type": "markdown",
   "metadata": {},
   "source": [
    "### Debugando código com PDB"
   ]
  },
  {
   "cell_type": "code",
   "execution_count": 11,
   "metadata": {},
   "outputs": [
    {
     "name": "stdout",
     "output_type": "stream",
     "text": [
      "--Return--\n",
      "None\n",
      "> \u001b[1;32m<ipython-input-11-de4fd599fcc0>\u001b[0m(10)\u001b[0;36m<module>\u001b[1;34m()\u001b[0m\n",
      "\u001b[1;32m      8 \u001b[1;33m\u001b[1;32mimport\u001b[0m  \u001b[0mpdb\u001b[0m\u001b[1;33m\u001b[0m\u001b[1;33m\u001b[0m\u001b[0m\n",
      "\u001b[0m\u001b[1;32m      9 \u001b[1;33m\u001b[0mnome\u001b[0m \u001b[1;33m=\u001b[0m \u001b[1;34m'ana'\u001b[0m\u001b[1;33m\u001b[0m\u001b[1;33m\u001b[0m\u001b[0m\n",
      "\u001b[0m\u001b[1;32m---> 10 \u001b[1;33m\u001b[0mpdb\u001b[0m\u001b[1;33m.\u001b[0m\u001b[0mset_trace\u001b[0m\u001b[1;33m(\u001b[0m\u001b[1;33m)\u001b[0m\u001b[1;33m\u001b[0m\u001b[1;33m\u001b[0m\u001b[0m\n",
      "\u001b[0m\u001b[1;32m     11 \u001b[1;33m\u001b[0msobrenome\u001b[0m \u001b[1;33m=\u001b[0m \u001b[1;34m'beatriz'\u001b[0m\u001b[1;33m\u001b[0m\u001b[1;33m\u001b[0m\u001b[0m\n",
      "\u001b[0m\u001b[1;32m     12 \u001b[1;33m\u001b[0mnome_completo\u001b[0m \u001b[1;33m=\u001b[0m \u001b[0mnome\u001b[0m \u001b[1;33m+\u001b[0m \u001b[1;34m' '\u001b[0m \u001b[1;33m+\u001b[0m \u001b[0msobrenome\u001b[0m\u001b[1;33m\u001b[0m\u001b[1;33m\u001b[0m\u001b[0m\n",
      "\u001b[0m\n",
      "ipdb> l\n",
      "\u001b[0;32m      5 \u001b[0m\u001b[1;36m3\u001b[0m\u001b[1;33m-\u001b[0m \u001b[0mp\u001b[0m \u001b[1;33m(\u001b[0m\u001b[0mimprime\u001b[0m \u001b[0ma\u001b[0m \u001b[0mvariável\u001b[0m\u001b[1;33m)\u001b[0m\u001b[1;33m\u001b[0m\u001b[1;33m\u001b[0m\u001b[0m\n",
      "\u001b[0;32m      6 \u001b[0m\u001b[1;36m4\u001b[0m\u001b[1;33m-\u001b[0m \u001b[0mc\u001b[0m \u001b[1;33m(\u001b[0m\u001b[0mcontinua\u001b[0m \u001b[0ma\u001b[0m \u001b[0mexecução\u001b[0m \u001b[1;33m-\u001b[0m \u001b[0mfinaliza\u001b[0m \u001b[0mo\u001b[0m \u001b[0mdebugging\u001b[0m\u001b[1;33m)\u001b[0m\u001b[1;33m\u001b[0m\u001b[1;33m\u001b[0m\u001b[0m\n",
      "\u001b[0;32m      7 \u001b[0m\"\"\"\n",
      "\u001b[0;32m      8 \u001b[0m\u001b[1;32mimport\u001b[0m  \u001b[0mpdb\u001b[0m\u001b[1;33m\u001b[0m\u001b[1;33m\u001b[0m\u001b[0m\n",
      "\u001b[0;32m      9 \u001b[0m\u001b[0mnome\u001b[0m \u001b[1;33m=\u001b[0m \u001b[1;34m'ana'\u001b[0m\u001b[1;33m\u001b[0m\u001b[1;33m\u001b[0m\u001b[0m\n",
      "\u001b[1;32m---> 10 \u001b[1;33m\u001b[0mpdb\u001b[0m\u001b[1;33m.\u001b[0m\u001b[0mset_trace\u001b[0m\u001b[1;33m(\u001b[0m\u001b[1;33m)\u001b[0m\u001b[1;33m\u001b[0m\u001b[1;33m\u001b[0m\u001b[0m\n",
      "\u001b[0m\u001b[0;32m     11 \u001b[0m\u001b[0msobrenome\u001b[0m \u001b[1;33m=\u001b[0m \u001b[1;34m'beatriz'\u001b[0m\u001b[1;33m\u001b[0m\u001b[1;33m\u001b[0m\u001b[0m\n",
      "\u001b[0;32m     12 \u001b[0m\u001b[0mnome_completo\u001b[0m \u001b[1;33m=\u001b[0m \u001b[0mnome\u001b[0m \u001b[1;33m+\u001b[0m \u001b[1;34m' '\u001b[0m \u001b[1;33m+\u001b[0m \u001b[0msobrenome\u001b[0m\u001b[1;33m\u001b[0m\u001b[1;33m\u001b[0m\u001b[0m\n",
      "\u001b[0;32m     13 \u001b[0m\u001b[0mprint\u001b[0m\u001b[1;33m(\u001b[0m\u001b[0mnome_completo\u001b[0m\u001b[1;33m)\u001b[0m\u001b[1;33m\u001b[0m\u001b[1;33m\u001b[0m\u001b[0m\n",
      "\n",
      "ipdb> c\n",
      "ana beatriz\n"
     ]
    }
   ],
   "source": [
    "\"\"\"\n",
    "- Comandos básicos para utilizar o PDB:\n",
    "1- l (listar onde estamos no código)\n",
    "2- n(ir para a próxima linha)\n",
    "3- p (imprime a variável)\n",
    "4- c (continua a execução - finaliza o debugging)\n",
    "\"\"\"\n",
    "import  pdb\n",
    "nome = 'ana'\n",
    "pdb.set_trace()\n",
    "sobrenome = 'beatriz'\n",
    "nome_completo = nome + ' ' + sobrenome\n",
    "print(nome_completo)\n"
   ]
  }
 ],
 "metadata": {
  "kernelspec": {
   "display_name": "Python 3",
   "language": "python",
   "name": "python3"
  },
  "language_info": {
   "codemirror_mode": {
    "name": "ipython",
    "version": 3
   },
   "file_extension": ".py",
   "mimetype": "text/x-python",
   "name": "python",
   "nbconvert_exporter": "python",
   "pygments_lexer": "ipython3",
   "version": "3.8.5"
  }
 },
 "nbformat": 4,
 "nbformat_minor": 4
}
