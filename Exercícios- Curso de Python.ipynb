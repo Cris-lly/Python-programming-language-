{
 "cells": [
  {
   "cell_type": "markdown",
   "metadata": {},
   "source": [
    "## Seção 4\n",
    "\n",
    "### Problema 3:\n",
    "Peça ao usuário para digitar três valores inteiros e imprima a soma deles"
   ]
  },
  {
   "cell_type": "code",
   "execution_count": null,
   "metadata": {},
   "outputs": [],
   "source": [
    "soma = 0\n",
    "for valor in range(1, 4):\n",
    "    soma += int(input(f\"Digite o {valor}º valor:\"))\n",
    "print(soma)\n"
   ]
  },
  {
   "cell_type": "markdown",
   "metadata": {},
   "source": [
    "### Problema 4:\n",
    "Leia um número real e imprima o resultado do quadrado desse número "
   ]
  },
  {
   "cell_type": "code",
   "execution_count": null,
   "metadata": {},
   "outputs": [],
   "source": [
    "num = float(input(\"Digite um número float para visualizar o quadrado do número:\"))\n",
    "print(num**2)\n"
   ]
  },
  {
   "cell_type": "markdown",
   "metadata": {},
   "source": [
    "### Problema 38:\n",
    "Leia o salário de um funcionário, calcule e imprima o valor no novo salário, sabendo que ele recebeu um aumento de 25% sobre o valor atual"
   ]
  },
  {
   "cell_type": "code",
   "execution_count": null,
   "metadata": {},
   "outputs": [],
   "source": [
    "salario = float(input(\"Digite o valor do seu salário:\"))\n",
    "valor = (salario*25)/100\n",
    "print(salario+valor)\n"
   ]
  },
  {
   "cell_type": "markdown",
   "metadata": {},
   "source": [
    "### Problema 50:\n",
    "Implemente um programa que calcule o ano de nascimento de uma pessoa a partir de sua idade e do ano atual"
   ]
  },
  {
   "cell_type": "code",
   "execution_count": null,
   "metadata": {},
   "outputs": [],
   "source": [
    "idade = int(input(\"Digite sua idade:\"))\n",
    "ano_atual = int(input(\"Digite o ano atual:\"))\n",
    "print(ano_atual - idade)\n"
   ]
  },
  {
   "cell_type": "markdown",
   "metadata": {},
   "source": [
    "## Seção 5\n",
    "### Problema 1:\n",
    "Faça um programa que receba dois números e mostre qual deles é o maior"
   ]
  },
  {
   "cell_type": "code",
   "execution_count": 2,
   "metadata": {},
   "outputs": [
    {
     "name": "stdout",
     "output_type": "stream",
     "text": [
      "Digite o primeiro número:2\n",
      "Digite o segundo número:2\n",
      "São iguais!\n"
     ]
    }
   ],
   "source": [
    "num1 = int(input(\"Digite o primeiro número:\"))\n",
    "num2 = int(input(\"Digite o segundo número:\"))\n",
    "if num1 > num2:\n",
    "    print(num1)\n",
    "elif num2> num1:\n",
    "    print(num2)\n",
    "else:\n",
    "    print(\"São iguais!\")"
   ]
  },
  {
   "cell_type": "markdown",
   "metadata": {},
   "source": [
    "### Problema 3: \n",
    "leia um número real, se o número for positivo imprima a raiz quadrada, do contrário, imprima o número ao quadrado.\n",
    "    "
   ]
  },
  {
   "cell_type": "code",
   "execution_count": null,
   "metadata": {},
   "outputs": [],
   "source": []
  }
 ],
 "metadata": {
  "kernelspec": {
   "display_name": "Python 3",
   "language": "python",
   "name": "python3"
  },
  "language_info": {
   "codemirror_mode": {
    "name": "ipython",
    "version": 3
   },
   "file_extension": ".py",
   "mimetype": "text/x-python",
   "name": "python",
   "nbconvert_exporter": "python",
   "pygments_lexer": "ipython3",
   "version": "3.8.5"
  }
 },
 "nbformat": 4,
 "nbformat_minor": 4
}
